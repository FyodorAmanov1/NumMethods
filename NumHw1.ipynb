{
  "nbformat": 4,
  "nbformat_minor": 0,
  "metadata": {
    "colab": {
      "provenance": []
    },
    "kernelspec": {
      "name": "python3",
      "display_name": "Python 3"
    },
    "language_info": {
      "name": "python"
    }
  },
  "cells": [
    {
      "cell_type": "markdown",
      "source": [
        "Ex 1"
      ],
      "metadata": {
        "id": "7lNrkKjFW2DP"
      }
    },
    {
      "cell_type": "code",
      "execution_count": null,
      "metadata": {
        "colab": {
          "base_uri": "https://localhost:8080/"
        },
        "id": "drUwLzQ7OQCx",
        "outputId": "f94540df-aa50-44d5-e9bc-48db059556cc"
      },
      "outputs": [
        {
          "output_type": "stream",
          "name": "stdout",
          "text": [
            "0.4330127018922193\n",
            "0.4330269417078736\n"
          ]
        },
        {
          "output_type": "execute_result",
          "data": {
            "text/plain": [
              "-3.2884364187897855e-05"
            ]
          },
          "metadata": {},
          "execution_count": 2
        }
      ],
      "source": [
        "import math as m\n",
        "\n",
        "a = m.sqrt(3)/4\n",
        "print(a)\n",
        "\n",
        "b = 0.5 - m.pow(m.pi/12, 2) + m.pow(m.pi/12, 4)*1/3\n",
        "print(b)\n",
        "\n",
        "(a - b)/b\n",
        "\n"
      ]
    },
    {
      "cell_type": "markdown",
      "source": [
        "Ex 2"
      ],
      "metadata": {
        "id": "72Vtcx3ZW1J3"
      }
    },
    {
      "cell_type": "code",
      "source": [
        "c = 1/2*(0.5)**4 - 0.25 + 1\n",
        "\n",
        "print(c)\n",
        "\n",
        "d = (m.e)**(-0.25)\n",
        "\n",
        "print(d)\n",
        "\n",
        "print(d - c)\n",
        "x = 0.5\n",
        "derv6 = -120*m.e**(-x*x)+700*x*m.e**(-x*x)-480*x**4*m.e**(-x*x)+64*x**6*m.e**(-x*x)\n",
        "\n",
        "print(\"x = \", derv6, (derv6/m.factorial(6))*(0.5**6))\n",
        "\n",
        "bound_error = derv6/720/64\n",
        "\n",
        "print(bound_error)\n",
        "\n"
      ],
      "metadata": {
        "colab": {
          "base_uri": "https://localhost:8080/"
        },
        "id": "doywLtDiSmyx",
        "outputId": "b77d13af-888b-484d-85be-39acca61d048"
      },
      "execution_count": null,
      "outputs": [
        {
          "output_type": "stream",
          "name": "stdout",
          "text": [
            "0.78125\n",
            "0.7788007830714049\n",
            "-0.0024492169285951215\n",
            "x =  156.53895739735242 0.0033971127907411547\n",
            "0.0033971127907411547\n"
          ]
        }
      ]
    },
    {
      "cell_type": "markdown",
      "source": [
        "# Ex 4 Bisection method"
      ],
      "metadata": {
        "id": "_gB15Mc25MGv"
      }
    },
    {
      "cell_type": "code",
      "source": [
        "def f(x):\n",
        "    return x**3 - x - 1\n",
        "\n",
        "def check(func, d, e):\n",
        "    a = d\n",
        "    b = e\n",
        "    while abs(a - b) > 0.001:\n",
        "        if func(a)*func(b) > 0:\n",
        "            print(\"error\")\n",
        "        else:\n",
        "            p = (a+b)/2\n",
        "            if func(a)*func(p) < 0:\n",
        "                b = p\n",
        "            else:\n",
        "                a = p\n",
        "            print(p)\n",
        "    return a\n",
        "\n",
        "check(f, 1, 2)"
      ],
      "metadata": {
        "id": "VNiQDvOnwy9C",
        "colab": {
          "base_uri": "https://localhost:8080/"
        },
        "outputId": "0071c56c-2862-40b1-9117-711cbb5b5f96"
      },
      "execution_count": null,
      "outputs": [
        {
          "output_type": "stream",
          "name": "stdout",
          "text": [
            "1.5\n",
            "1.25\n",
            "1.375\n",
            "1.3125\n",
            "1.34375\n",
            "1.328125\n",
            "1.3203125\n",
            "1.32421875\n",
            "1.326171875\n",
            "1.3251953125\n"
          ]
        },
        {
          "output_type": "execute_result",
          "data": {
            "text/plain": [
              "1.32421875"
            ]
          },
          "metadata": {},
          "execution_count": 8
        }
      ]
    },
    {
      "cell_type": "code",
      "source": [
        "def f2(x):\n",
        "    return m.e**x - 3*x\n",
        "\n",
        "check(f2, 0, 1)"
      ],
      "metadata": {
        "colab": {
          "base_uri": "https://localhost:8080/"
        },
        "id": "zRxMOx1_17o_",
        "outputId": "52bfa57a-bd01-4def-afcc-833ee59e9231"
      },
      "execution_count": null,
      "outputs": [
        {
          "output_type": "stream",
          "name": "stdout",
          "text": [
            "0.5\n",
            "0.75\n",
            "0.625\n",
            "0.5625\n",
            "0.59375\n",
            "0.609375\n",
            "0.6171875\n",
            "0.62109375\n",
            "0.619140625\n",
            "0.6181640625\n"
          ]
        },
        {
          "output_type": "execute_result",
          "data": {
            "text/plain": [
              "0.6181640625"
            ]
          },
          "metadata": {},
          "execution_count": 9
        }
      ]
    },
    {
      "cell_type": "code",
      "source": [
        "def f3(x):\n",
        "    return x - m.tan(x)\n",
        "\n",
        "check(f3, 4, 4.5)"
      ],
      "metadata": {
        "colab": {
          "base_uri": "https://localhost:8080/"
        },
        "id": "vRYfURxz2yAx",
        "outputId": "28bb5ac9-711e-491d-a159-a0fe9faeb628"
      },
      "execution_count": null,
      "outputs": [
        {
          "output_type": "stream",
          "name": "stdout",
          "text": [
            "4.25\n",
            "4.375\n",
            "4.4375\n",
            "4.46875\n",
            "4.484375\n",
            "4.4921875\n",
            "4.49609375\n",
            "4.494140625\n",
            "4.4931640625\n"
          ]
        },
        {
          "output_type": "execute_result",
          "data": {
            "text/plain": [
              "4.4931640625"
            ]
          },
          "metadata": {},
          "execution_count": 10
        }
      ]
    },
    {
      "cell_type": "markdown",
      "source": [
        "# Ex 5"
      ],
      "metadata": {
        "id": "fSuWby00DI9u"
      }
    },
    {
      "source": [
        "import matplotlib.pyplot as plt\n",
        "import numpy as np\n",
        "\n",
        "# Define the function\n",
        "def f_reactor(x):\n",
        "  return 1 - x - m.e**(-(25)**x*(1-x)**2)\n",
        "\n",
        "# Generate x values\n",
        "x = np.linspace(-5, 5, 10000)\n",
        "\n",
        "# Calculate y values\n",
        "y = f(x)\n",
        "\n",
        "# Plot the function\n",
        "plt.plot(x, y)\n",
        "plt.grid()\n",
        "\n",
        "# Add labels and title\n",
        "plt.xlabel(\"x\")\n",
        "plt.ylabel(\"y\")\n",
        "plt.title(\"Plot of f(x)\")\n",
        "\n",
        "# Show the plot\n",
        "plt.show()"
      ],
      "cell_type": "code",
      "metadata": {
        "colab": {
          "base_uri": "https://localhost:8080/",
          "height": 472
        },
        "id": "AW8Mr42U67Kb",
        "outputId": "c3201fa0-fc33-4946-b486-eeb4944cca52"
      },
      "execution_count": null,
      "outputs": [
        {
          "output_type": "display_data",
          "data": {
            "text/plain": [
              "<Figure size 640x480 with 1 Axes>"
            ],
            "image/png": "[encoded data removed]"
          },
          "metadata": {}
        }
      ]
    },
    {
      "cell_type": "code",
      "source": [
        "def check2(func, d, e):\n",
        "    a = d\n",
        "    b = e\n",
        "    while abs(a - b) > 0.0001:\n",
        "        if func(a)*func(b) > 0:\n",
        "            print(\"error\")\n",
        "        else:\n",
        "            p = (a+b)/2\n",
        "            if func(a)*func(p) < 0:\n",
        "                b = p\n",
        "            else:\n",
        "                a = p\n",
        "            print(p)\n",
        "    return a\n",
        "\n",
        "check2(f_reactor, -2, 2)"
      ],
      "metadata": {
        "colab": {
          "base_uri": "https://localhost:8080/"
        },
        "outputId": "b5f8de5f-e8ab-4aa5-8fe2-ade123218df9",
        "id": "GAAFkB_u_sMo"
      },
      "execution_count": null,
      "outputs": [
        {
          "output_type": "stream",
          "name": "stdout",
          "text": [
            "0.0\n",
            "1.0\n",
            "0.5\n",
            "0.75\n",
            "0.625\n",
            "0.6875\n",
            "0.65625\n",
            "0.640625\n",
            "0.6328125\n",
            "0.63671875\n",
            "0.638671875\n",
            "0.6396484375\n",
            "0.63916015625\n",
            "0.638916015625\n",
            "0.6390380859375\n",
            "0.63909912109375\n"
          ]
        },
        {
          "output_type": "execute_result",
          "data": {
            "text/plain": [
              "0.6390380859375"
            ]
          },
          "metadata": {},
          "execution_count": 12
        }
      ]
    },
    {
      "cell_type": "markdown",
      "source": [
        "# Ex 6"
      ],
      "metadata": {
        "id": "c7YP4vuX4E0b"
      }
    },
    {
      "cell_type": "code",
      "source": [
        "def f7(x):\n",
        "  return (1-x)**(1/3)\n",
        "def f8(x):\n",
        "  return (m.cos(x))**2\n",
        "def f4(x):\n",
        "  return m.e**(1/x)\n",
        "\n",
        "\n",
        "def fixed_point(f, d):\n",
        "    x = d\n",
        "    i = 0\n",
        "    while abs(x - f(x)) > 0.0001:\n",
        "        i+=1\n",
        "        x = f(x)\n",
        "        print(\"Iteration \", i, \" \", x)\n",
        "\n",
        "print(\"Log stuff\")\n",
        "fixed_point(f4, 1.5)\n",
        "print(\"Polynomial\")\n",
        "fixed_point(f7, 0.5)\n",
        "print(\"Trigonometry\")\n",
        "fixed_point(f8, 0.5)"
      ],
      "metadata": {
        "colab": {
          "base_uri": "https://localhost:8080/"
        },
        "id": "FTjYU9BX26Qv",
        "outputId": "2e9e279c-4a7b-4e87-ff38-cc165c89d123"
      },
      "execution_count": null,
      "outputs": [
        {
          "output_type": "stream",
          "name": "stdout",
          "text": [
            "Log stuff\n",
            "Iteration  1   1.9477340410546757\n",
            "Iteration  2   1.670991426821702\n",
            "Iteration  3   1.8192914568318665\n",
            "Iteration  4   1.7326716766612396\n",
            "Iteration  5   1.7809436904374858\n",
            "Iteration  6   1.7533005955288339\n",
            "Iteration  7   1.7688911030615893\n",
            "Iteration  8   1.760021325133811\n",
            "Iteration  9   1.7650427902515131\n",
            "Iteration  10   1.7621920242949227\n",
            "Iteration  11   1.7638078903787973\n",
            "Iteration  12   1.7628911650115648\n",
            "Iteration  13   1.763410983820473\n",
            "Iteration  14   1.763116141256664\n",
            "Iteration  15   1.7632833493251387\n",
            "Polynomial\n",
            "Iteration  1   0.7937005259840998\n",
            "Iteration  2   0.5908801132751771\n",
            "Iteration  3   0.7423639321680063\n",
            "Iteration  4   0.6363102034816613\n",
            "Iteration  5   0.7138008141442069\n",
            "Iteration  6   0.6590061456223998\n",
            "Iteration  7   0.6986326057302191\n",
            "Iteration  8   0.670448496228072\n",
            "Iteration  9   0.6907291205891408\n",
            "Iteration  10   0.6762589249268274\n",
            "Iteration  11   0.6866455368644897\n",
            "Iteration  12   0.6792223398970035\n",
            "Iteration  13   0.6845440054697164\n",
            "Iteration  14   0.680737373803562\n",
            "Iteration  15   0.6834646031717696\n",
            "Iteration  16   0.6815129209547558\n",
            "Iteration  17   0.6829107343858817\n",
            "Iteration  18   0.681910189621121\n",
            "Iteration  19   0.6826266706195234\n",
            "Iteration  20   0.682113758124644\n",
            "Iteration  21   0.6824810189413075\n",
            "Iteration  22   0.6822180893227887\n",
            "Iteration  23   0.6824063466799226\n",
            "Iteration  24   0.6822715651542335\n",
            "Trigonometry\n",
            "Iteration  1   0.7701511529340699\n",
            "Iteration  2   0.5152446475780607\n",
            "Iteration  3   0.7571996555588056\n",
            "Iteration  4   0.5281835620768099\n",
            "Iteration  5   0.7460190040197923\n",
            "Iteration  6   0.5393384613493524\n",
            "Iteration  7   0.7362474248251424\n",
            "Iteration  8   0.5490716180674262\n",
            "Iteration  9   0.727625050097422\n",
            "Iteration  10   0.5576446449520578\n",
            "Iteration  11   0.7199588543876414\n",
            "Iteration  12   0.5652526483090887\n",
            "Iteration  13   0.7131013785302431\n",
            "Iteration  14   0.5720451263197204\n",
            "Iteration  15   0.7069372402788409\n",
            "Iteration  16   0.5781393096320994\n",
            "Iteration  17   0.7013742649003121\n",
            "Iteration  18   0.5836289831798666\n",
            "Iteration  19   0.696337471766223\n",
            "Iteration  20   0.5885904966845008\n",
            "Iteration  21   0.6917648889146761\n",
            "Iteration  22   0.593086966136826\n",
            "Iteration  23   0.6876045729076103\n",
            "Iteration  24   0.5971712770287385\n",
            "Iteration  25   0.6838124440860163\n",
            "Iteration  26   0.6008882737365379\n",
            "Iteration  27   0.680350685921193\n",
            "Iteration  28   0.6042763838926191\n",
            "Iteration  29   0.6771865423342938\n",
            "Iteration  30   0.607368842855912\n",
            "Iteration  31   0.674291400684477\n",
            "Iteration  32   0.6101946302524929\n",
            "Iteration  33   0.671640083000181\n",
            "Iteration  34   0.6127791960042691\n",
            "Iteration  35   0.6692102911296419\n",
            "Iteration  36   0.6151450303029451\n",
            "Iteration  37   0.6669821670974158\n",
            "Iteration  38   0.6173121164296322\n",
            "Iteration  39   0.6649379406924566\n",
            "Iteration  40   0.6192982945941059\n",
            "Iteration  41   0.6630616438201851\n",
            "Iteration  42   0.6211195574545891\n",
            "Iteration  43   0.6613388764747807\n",
            "Iteration  44   0.6227902926412333\n",
            "Iteration  45   0.6597566130126845\n",
            "Iteration  46   0.6243234837654353\n",
            "Iteration  47   0.6583030401882021\n",
            "Iteration  48   0.6257308786009351\n",
            "Iteration  49   0.6569674204537521\n",
            "Iteration  50   0.627023131065681\n",
            "Iteration  51   0.6557399755408868\n",
            "Iteration  52   0.6282099221058387\n",
            "Iteration  53   0.6546117864698318\n",
            "Iteration  54   0.629300063438999\n",
            "Iteration  55   0.6535747069878467\n",
            "Iteration  56   0.6303015872495892\n",
            "Iteration  57   0.6526212880835391\n",
            "Iteration  58   0.6312218242722907\n",
            "Iteration  59   0.6517447117181844\n",
            "Iteration  60   0.6320674721959536\n",
            "Iteration  61   0.6509387322945751\n",
            "Iteration  62   0.6328446559325293\n",
            "Iteration  63   0.650197624677132\n",
            "Iteration  64   0.6335589809946569\n",
            "Iteration  65   0.649516137804855\n",
            "Iteration  66   0.6342155809907469\n",
            "Iteration  67   0.6488894531167165\n",
            "Iteration  68   0.6348191600621277\n",
            "Iteration  69   0.6483131471489815\n",
            "Iteration  70   0.6353740309413213\n",
            "Iteration  71   0.6477831577744675\n",
            "Iteration  72   0.6358841491949468\n",
            "Iteration  73   0.6472957536416201\n",
            "Iteration  74   0.6363531441224003\n",
            "Iteration  75   0.6468475064415447\n",
            "Iteration  76   0.6367843467072019\n",
            "Iteration  77   0.6464352656876949\n",
            "Iteration  78   0.637180814957805\n",
            "Iteration  79   0.6460561357387602\n",
            "Iteration  80   0.6375453569257173\n",
            "Iteration  81   0.6457074548326991\n",
            "Iteration  82   0.637880551648633\n",
            "Iteration  83   0.6453867759306346\n",
            "Iteration  84   0.6381887682331295\n",
            "Iteration  85   0.6450918491948072\n",
            "Iteration  86   0.6384721832639175\n",
            "Iteration  87   0.6448206059460713\n",
            "Iteration  88   0.6387327967035388\n",
            "Iteration  89   0.6445711439643271\n",
            "Iteration  90   0.6389724464269511\n",
            "Iteration  91   0.6443417140104828\n",
            "Iteration  92   0.6391928215188905\n",
            "Iteration  93   0.6441307074615245\n",
            "Iteration  94   0.6393954744477733\n",
            "Iteration  95   0.6439366449614732\n",
            "Iteration  96   0.6395818322177264\n",
            "Iteration  97   0.6437581660007063\n",
            "Iteration  98   0.6397532065897922\n",
            "Iteration  99   0.6435940193446122\n",
            "Iteration  100   0.6399108034541748\n",
            "Iteration  101   0.6434430542399949\n",
            "Iteration  102   0.6400557314273401\n",
            "Iteration  103   0.6433042123342447\n",
            "Iteration  104   0.6401890097406925\n",
            "Iteration  105   0.6431765202481482\n",
            "Iteration  106   0.6403115754812825\n",
            "Iteration  107   0.6430590827484449\n",
            "Iteration  108   0.6404242902394083\n",
            "Iteration  109   0.6429510764709402\n",
            "Iteration  110   0.6405279462130046\n",
            "Iteration  111   0.6428517441492019\n",
            "Iteration  112   0.6406232718142472\n",
            "Iteration  113   0.6427603893076957\n",
            "Iteration  114   0.6407109368197929\n",
            "Iteration  115   0.6426763713816712\n",
            "Iteration  116   0.6407915571024615\n",
            "Iteration  117   0.6425991012292503\n",
            "Iteration  118   0.6408656989789046\n",
            "Iteration  119   0.6425280370040353\n",
            "Iteration  120   0.6409338832048473\n",
            "Iteration  121   0.6424626803591518\n",
            "Iteration  122   0.6409965886468102\n",
            "Iteration  123   0.6424025729560343\n",
            "Iteration  124   0.6410542556567773\n",
            "Iteration  125   0.642347293253428\n",
            "Iteration  126   0.6411072891740633\n",
            "Iteration  127   0.6422964535540778\n",
            "Iteration  128   0.6411560615766057\n",
            "Iteration  129   0.6422496972884024\n",
            "Iteration  130   0.6412009153020654\n",
            "Iteration  131   0.6422066965161186\n",
            "Iteration  132   0.6412421652574347\n",
            "Iteration  133   0.6421671496283249\n",
            "Iteration  134   0.6412801010343079\n",
            "Iteration  135   0.6421307792339541\n",
            "Iteration  136   0.6413149889455646\n",
            "Iteration  137   0.6420973302158056\n",
            "Iteration  138   0.6413470738979222\n",
            "Iteration  139   0.6420665679425526\n",
            "Iteration  140   0.6413765811136345\n",
            "Iteration  141   0.6420382766242138\n",
            "Iteration  142   0.6414037177135279\n",
            "Iteration  143   0.6420122577995848\n",
            "Iteration  144   0.641428674172579\n",
            "Iteration  145   0.6419883289450431\n",
            "Iteration  146   0.6414516256583174\n",
            "Iteration  147   0.6419663221949954\n",
            "Iteration  148   0.6414727332615137\n",
            "Iteration  149   0.6419460831650101\n",
            "Iteration  150   0.6414921451278355\n",
            "Iteration  151   0.641927469869403\n",
            "Iteration  152   0.641509997498457\n",
            "Iteration  153   0.6419103517256948\n",
            "Iteration  154   0.6415264156669604\n",
            "Iteration  155   0.6418946086389777\n",
            "Iteration  156   0.6415415148592691\n",
            "Iteration  157   0.641880130159778\n",
            "Iteration  158   0.6415554010428155\n",
            "Iteration  159   0.6418668147095171\n",
            "Iteration  160   0.6415681716706402\n",
            "Iteration  161   0.6418545688681531\n",
            "Iteration  162   0.6415799163656591\n",
            "Iteration  163   0.6418433067190055\n",
            "Iteration  164   0.6415907175499174\n",
            "Iteration  165   0.6418329492461836\n",
            "Iteration  166   0.6416006510232521\n",
            "Iteration  167   0.6418234237803919\n",
            "Iteration  168   0.6416097864954404\n",
            "Iteration  169   0.6418146634892304\n",
            "Iteration  170   0.6416181880755689\n",
            "Iteration  171   0.641806606908422\n",
            "Iteration  172   0.64162591472207\n",
            "Iteration  173   0.6417991975106774\n",
            "Iteration  174   0.6416330206565865\n",
            "Iteration  175   0.6417923833091826\n",
            "Iteration  176   0.6416395557445719\n",
            "Iteration  177   0.6417861164929244\n",
            "Iteration  178   0.6416455658453045\n",
            "Iteration  179   0.6417803530913\n",
            "Iteration  180   0.641651093133772\n",
            "Iteration  181   0.6417750526656617\n",
            "Iteration  182   0.6416561763966889\n",
            "Iteration  183   0.6417701780256313\n",
            "Iteration  184   0.6416608513047262\n",
            "Iteration  185   0.6417656949681977\n",
            "Iteration  186   0.6416651506628651\n"
          ]
        }
      ]
    },
    {
      "cell_type": "markdown",
      "source": [
        "Ex 7"
      ],
      "metadata": {
        "id": "N1YsGBP1h_T8"
      }
    },
    {
      "cell_type": "code",
      "source": [
        "def water_tank(x):\n",
        "  return (-90/m.pi + 6*x**2)**(1/3)\n",
        "\n",
        "fixed_point(water_tank, 4.5)"
      ],
      "metadata": {
        "colab": {
          "base_uri": "https://localhost:8080/"
        },
        "id": "ro_s6P0h4MaZ",
        "outputId": "5368e9f5-cd43-4122-a1bc-9df04748eac1"
      },
      "execution_count": null,
      "outputs": [
        {
          "output_type": "stream",
          "name": "stdout",
          "text": [
            "Iteration  1   4.528252054037059\n",
            "Iteration  2   4.5529950129057175\n",
            "Iteration  3   4.574571280060323\n",
            "Iteration  4   4.593316137661511\n",
            "Iteration  5   4.609548990035501\n",
            "Iteration  6   4.623567791730187\n",
            "Iteration  7   4.635645950730456\n",
            "Iteration  8   4.646031076328932\n",
            "Iteration  9   4.654945042898266\n",
            "Iteration  10   4.662584945492936\n",
            "Iteration  11   4.669124619643359\n",
            "Iteration  12   4.67471648067207\n",
            "Iteration  13   4.679493505884007\n",
            "Iteration  14   4.683571236716568\n",
            "Iteration  15   4.687049719087104\n",
            "Iteration  16   4.69001533082863\n",
            "Iteration  17   4.6925424673316\n",
            "Iteration  18   4.69469507217685\n",
            "Iteration  19   4.696528010233738\n",
            "Iteration  20   4.698088287693168\n",
            "Iteration  21   4.69941612782\n",
            "Iteration  22   4.7005459136212275\n",
            "Iteration  23   4.7015070097208325\n",
            "Iteration  24   4.702324475941866\n",
            "Iteration  25   4.703019684734923\n",
            "Iteration  26   4.703610853883466\n",
            "Iteration  27   4.7041135050166725\n",
            "Iteration  28   4.704540857476373\n",
            "Iteration  29   4.704904166086948\n",
            "Iteration  30   4.705213010410945\n",
            "Iteration  31   4.705475542165561\n",
            "Iteration  32   4.70569869664072\n",
            "Iteration  33   4.705888373204298\n",
            "Iteration  34   4.706049589304836\n",
            "Iteration  35   4.70618661178387\n",
            "Iteration  36   4.706303068784002\n"
          ]
        }
      ]
    },
    {
      "cell_type": "markdown",
      "source": [
        "Ex 8"
      ],
      "metadata": {
        "id": "8vNYfUfCh8VB"
      }
    },
    {
      "cell_type": "code",
      "source": [
        "#Newton's method and Secant\n",
        "\n",
        "def newton_method(f, df, x0):\n",
        "    i = 1\n",
        "    x1 = x0 - f(x0)/df(x0)\n",
        "\n",
        "    print(\"Iteration\", i, \" \", x1)\n",
        "    while abs(x1 - x0) > 0.001:\n",
        "        x0 = x1\n",
        "        x1 = x0 - f(x0)/df(x0)\n",
        "        i+=1\n",
        "        print(\"Iteration\", i, \" \", x1)\n",
        "\n",
        "# Secant method\n",
        "\n",
        "\n",
        "def secant_method(f, x1, x0):\n",
        "   x2 = x1 - f(x1)*(x1 - x0)/(f(x1) - f(x0))\n",
        "\n",
        "   i = 1\n",
        "\n",
        "   print(\"Iteration\", i, \" \", x2)\n",
        "   while abs(x2 - x0) >0.00001:\n",
        "        i+= 1\n",
        "        x2 = x1 - f(x1)*(x1 - x0)/(f(x1) - f(x0))\n",
        "        x0 = x1\n",
        "        x1 = x2\n",
        "        print(\"Iteration\", i, \" \", x2)\n",
        "\n",
        "def f1(x):\n",
        "  return x**4 - 2*x**2 + x - 3\n",
        "\n",
        "def df1(x):\n",
        "  return 4*x**3 - 4*x + 1\n",
        "\n",
        "newton_method(f1, df1, 2)\n",
        "\n",
        "secant_method(f1, 2.1, 2)"
      ],
      "metadata": {
        "colab": {
          "base_uri": "https://localhost:8080/"
        },
        "id": "RYdtHc8bEX48",
        "outputId": "3416af98-92b4-4e80-98bc-c6b88501f0ed"
      },
      "execution_count": null,
      "outputs": [
        {
          "output_type": "stream",
          "name": "stdout",
          "text": [
            "Iteration 1   1.72\n",
            "Iteration 2   1.6125415979447542\n",
            "Iteration 3   1.597220202167763\n",
            "Iteration 4   1.5969296580091543\n",
            "Iteration 1   1.7434111652798652\n",
            "Iteration 2   1.7434111652798652\n",
            "Iteration 3   1.656697357021356\n",
            "Iteration 4   1.6061806359118915\n",
            "Iteration 5   1.597571092568503\n",
            "Iteration 6   1.5969367431613772\n",
            "Iteration 7   1.5969295606126879\n"
          ]
        }
      ]
    },
    {
      "cell_type": "code",
      "source": [
        "def f2(x):\n",
        "  return m.pow(m.e, x) + m.pow(2, -x) + 2*m.cos(x) - 6\n",
        "\n",
        "def df2(x):\n",
        "  return m.pow(m.e, x) - m.log(2) * m.pow(2, -x) - 2*m.sin(x)\n",
        "\n",
        "newton_method(f2, df2, 1)\n",
        "secant_method(f2, 1.1, 1)"
      ],
      "metadata": {
        "colab": {
          "base_uri": "https://localhost:8080/"
        },
        "id": "1YR2Td89uViU",
        "outputId": "db22aa4b-b4c8-426e-feea-13167f6dbfb3"
      },
      "execution_count": null,
      "outputs": [
        {
          "output_type": "stream",
          "name": "stdout",
          "text": [
            "Iteration 1   3.4697980105110036\n",
            "Iteration 2   2.7261264691776734\n",
            "Iteration 3   2.197294484225279\n",
            "Iteration 4   1.9142730842143283\n",
            "Iteration 5   1.834995796653369\n",
            "Iteration 6   1.8294098740815745\n",
            "Iteration 7   1.8293836025124595\n",
            "Iteration 1   3.153626648534065\n",
            "Iteration 2   3.153626648534065\n",
            "Iteration 3   1.294179177843037\n",
            "Iteration 4   1.4477137990058964\n",
            "Iteration 5   2.1086154711422114\n",
            "Iteration 6   1.7384774684516486\n",
            "Iteration 7   1.8099220404286456\n",
            "Iteration 8   1.8309427815995378\n",
            "Iteration 9   1.8293579597772711\n",
            "Iteration 10   1.8293835684405237\n",
            "Iteration 11   1.829383601934569\n"
          ]
        }
      ]
    },
    {
      "cell_type": "code",
      "source": [
        "def f3(x):\n",
        "  return m.log(x - 1) + m.cos(x - 1)\n",
        "\n",
        "def df3(x):\n",
        "  return 1/(x - 1) - m.sin(x - 1)\n",
        "\n",
        "newton_method(f3, df3, 1.5)\n",
        "secant_method(f3, 1.6, 1.5)\n"
      ],
      "metadata": {
        "colab": {
          "base_uri": "https://localhost:8080/"
        },
        "id": "VcDWbY9bA3Fd",
        "outputId": "62a64152-aea7-476d-b0fa-412edc65d8ad"
      },
      "execution_count": null,
      "outputs": [
        {
          "output_type": "stream",
          "name": "stdout",
          "text": [
            "Iteration 1   1.3787067743061219\n",
            "Iteration 2   1.3971358132924878\n",
            "Iteration 3   1.3977478369912424\n",
            "Iteration 1   1.3582080072389149\n",
            "Iteration 2   1.3582080072389149\n",
            "Iteration 3   1.412058007131005\n",
            "Iteration 4   1.3987070361322125\n",
            "Iteration 5   1.397725037522355\n",
            "Iteration 6   1.3977485142229176\n",
            "Iteration 7   1.397748475960274\n"
          ]
        }
      ]
    },
    {
      "cell_type": "markdown",
      "source": [
        "Ex 9"
      ],
      "metadata": {
        "id": "kOdrqf_7h4OA"
      }
    },
    {
      "cell_type": "code",
      "source": [
        "import numpy as np\n",
        "import math\n",
        "import matplotlib.pyplot as plt\n",
        "\n",
        "\n",
        "m = 0.005\n",
        "d = 0.01\n",
        "g = 9.81\n",
        "myu = 1.81*10**(-5)\n",
        "p = 1.225\n",
        "A = (d**2)/4 * math.pi\n",
        "\n",
        "K = 2*m*g*d**2*p/(myu**2*A)\n",
        "\n",
        "def reynolds(re):\n",
        "  return 24*re + 6*re**2/(1 + re**(1/2)) + 0.4*re**2 - K\n",
        "\n",
        "x = np.linspace( 0, 100000, 1000000)\n",
        "y = reynolds(x)\n",
        "\n",
        "plt.plot(x, y)\n",
        "plt.grid()\n",
        "\n"
      ],
      "metadata": {
        "colab": {
          "base_uri": "https://localhost:8080/",
          "height": 445
        },
        "id": "AVcrAf8MMzEl",
        "outputId": "7851fcfb-81f2-454c-93a2-51ee1333f53b"
      },
      "execution_count": null,
      "outputs": [
        {
          "output_type": "display_data",
          "data": {
            "text/plain": [
              "<Figure size 640x480 with 1 Axes>"
            ],
            "image/png": "[encoded data removed]"
          },
          "metadata": {}
        }
      ]
    },
    {
      "cell_type": "code",
      "source": [
        "def df_reynolds(re):\n",
        "  return 24 + (12*re*(1 + re**(1/2)) - 3*re**(3/2))/(1 + re**(1/2))**2 + 0.8*re\n",
        "\n",
        "newton_method(reynolds, df_reynolds, 100000)"
      ],
      "metadata": {
        "colab": {
          "base_uri": "https://localhost:8080/"
        },
        "id": "v_XWn-1NQzg7",
        "outputId": "87bffa5e-26ae-4150-e917-63f2366c2766"
      },
      "execution_count": null,
      "outputs": [
        {
          "output_type": "stream",
          "name": "stdout",
          "text": [
            "Iteration 1   55052.95913778725\n",
            "Iteration 2   37211.376034888934\n",
            "Iteration 3   33069.34365000158\n",
            "Iteration 4   32817.9553938628\n",
            "Iteration 5   32817.0213898747\n",
            "Iteration 6   32817.021376980294\n"
          ]
        }
      ]
    },
    {
      "cell_type": "code",
      "source": [
        "Re = 32817.02137698029\n",
        "\n",
        "\n",
        "v = Re*myu/p/d\n",
        "print(v)"
      ],
      "metadata": {
        "colab": {
          "base_uri": "https://localhost:8080/"
        },
        "id": "poGmitGtT4K0",
        "outputId": "baf4a4e1-f2b3-409b-8c22-97c0accd540b"
      },
      "execution_count": null,
      "outputs": [
        {
          "output_type": "stream",
          "name": "stdout",
          "text": [
            "48.48882342231373\n"
          ]
        }
      ]
    },
    {
      "cell_type": "markdown",
      "source": [
        "Ex 10"
      ],
      "metadata": {
        "id": "KM7vr6sdhswJ"
      }
    },
    {
      "cell_type": "code",
      "source": [
        "def Van_der_Waals(n):\n",
        "  R = 8.314\n",
        "  P = 5*10**6\n",
        "  V = 0.001\n",
        "  T = 300\n",
        "  b = 4.27*10**(-5)\n",
        "  a = 0.364\n",
        "  return (P + a*n**2/V**2)*(V - n*b) - n*R*T\n",
        "\n",
        "secant_method(Van_der_Waals, 2.0, 1.5)"
      ],
      "metadata": {
        "colab": {
          "base_uri": "https://localhost:8080/"
        },
        "id": "wC1lLYxUd5kC",
        "outputId": "1d5a56b7-8108-4080-9cc4-7e57ba343a3e"
      },
      "execution_count": null,
      "outputs": [
        {
          "output_type": "stream",
          "name": "stdout",
          "text": [
            "Iteration 1   2.5808396211936473\n",
            "Iteration 2   2.5808396211936473\n",
            "Iteration 3   2.7123762512059595\n",
            "Iteration 4   2.7335798909279068\n",
            "Iteration 5   2.73430327294833\n",
            "Iteration 6   2.7343067975523394\n"
          ]
        }
      ]
    },
    {
      "cell_type": "code",
      "source": [
        "x = np.linspace( -100000, 100000, 100000)\n",
        "y = Van_der_Waals(x)\n",
        "\n",
        "plt.plot(x, y)\n",
        "plt.grid()"
      ],
      "metadata": {
        "colab": {
          "base_uri": "https://localhost:8080/",
          "height": 445
        },
        "id": "G63WHz1dizHZ",
        "outputId": "d765fbcf-5044-4099-b077-26973249f8fa"
      },
      "execution_count": null,
      "outputs": [
        {
          "output_type": "display_data",
          "data": {
            "text/plain": [
              "<Figure size 640x480 with 1 Axes>"
            ],
            "image/png": "[encoded data removed]"
          },
          "metadata": {}
        }
      ]
    }
  ]
}