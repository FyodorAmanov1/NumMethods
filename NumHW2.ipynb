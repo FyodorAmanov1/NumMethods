{
  "nbformat": 4,
  "nbformat_minor": 0,
  "metadata": {
    "colab": {
      "provenance": []
    },
    "kernelspec": {
      "name": "python3",
      "display_name": "Python 3"
    },
    "language_info": {
      "name": "python"
    }
  },
  "cells": [
    {
      "cell_type": "code",
      "source": [
        "point = 10.5"
      ],
      "metadata": {
        "id": "Nqk7LWvzeiDu"
      },
      "execution_count": 43,
      "outputs": []
    },
    {
      "source": [
        "import sympy\n",
        "\n",
        "x = [6, 9, 12, 15]\n",
        "y = [12, 18, 24, 21]\n",
        "\n",
        "def Lagrange_polynomial(x:list, y:list):\n",
        "  n = int(input(\"Degree of Lagrange polynomial : \"))\n",
        "\n",
        "  m = len(x)\n",
        "  x_symbol = sympy.Symbol('x')\n",
        "  Pn = 0\n",
        "  for j in range(m):\n",
        "    L = 1\n",
        "    for i in range(m):\n",
        "      if i != j:\n",
        "        L *= (x_symbol - x[i])/(x[j] - x[i])\n",
        "    Pn += L*y[j]\n",
        "\n",
        "  print(sympy.simplify(Pn))\n",
        "\n",
        "Lagrange_polynomial(x, y)"
      ],
      "cell_type": "code",
      "metadata": {
        "colab": {
          "base_uri": "https://localhost:8080/",
          "height": 0
        },
        "id": "QqwSWhpG5Zc_",
        "outputId": "4870e8da-af88-49b2-f2ef-50940fda869e"
      },
      "execution_count": 98,
      "outputs": [
        {
          "output_type": "stream",
          "name": "stdout",
          "text": [
            "Degree of Lagrange polynomial : 3\n",
            "-x**3/18 + 3*x**2/2 - 11*x + 36\n"
          ]
        }
      ]
    },
    {
      "source": [
        "import sympy\n",
        "\n",
        "x = [6, 9, 12, 15]\n",
        "y = [12, 18, 24, 21]\n",
        "\n",
        "def Lagrange_polynomial_at_point(x:list, y:list, point:float):\n",
        "\n",
        "  if len(x) != len(y):\n",
        "    raise ValueError(\"Arrays must have the same length\")\n",
        "\n",
        "  x0 = point\n",
        "  n = int(input(\"Degree of Lagrange polynomial : \"))\n",
        "\n",
        "  if n >= len(x):\n",
        "    raise ValueError(\"Degree must be less than or equal to the number of points\")\n",
        "\n",
        "  m = len(x)\n",
        "  Pn = 0\n",
        "  for j in range(m):\n",
        "    L = 1\n",
        "    for i in range(m):\n",
        "      if i != j:\n",
        "        L *= (x0 - x[i])/(x[j] - x[i])\n",
        "    Pn += L*y[j]\n",
        "\n",
        "  print(Pn)\n",
        "\n",
        "Lagrange_polynomial_at_point(x, y, point)"
      ],
      "cell_type": "code",
      "metadata": {
        "colab": {
          "base_uri": "https://localhost:8080/",
          "height": 0
        },
        "outputId": "ed295160-fb5d-4a87-e8d4-eb439c60bc96",
        "id": "YUaSmN1x6jfI"
      },
      "execution_count": 97,
      "outputs": [
        {
          "output_type": "stream",
          "name": "stdout",
          "text": [
            "Degree of Lagrange polynomial : 3\n",
            "21.5625\n"
          ]
        }
      ]
    },
    {
      "source": [
        "\n",
        "\n",
        "def Neville_method(x:list, y:list, point:float):\n",
        "    x0 = point\n",
        "    n = len(x)\n",
        "\n",
        "    Q = [[0 for i in range(n) ] for _ in range(n)]\n",
        "    for i in range(n):\n",
        "        Q[i][0] = y[i]\n",
        "\n",
        "    for i in range(1, n):\n",
        "        for j in range(1, i + 1):\n",
        "            Q[i][j] = (Q[i][j - 1] *(x0 - x[i-j]) - Q[i - 1][j - 1]*(x0-x[i])) / (x[i] - x[i - j])\n",
        "\n",
        "    print(Q[n-1][n-1])\n",
        "\n",
        "Neville_method(x, y, point)"
      ],
      "cell_type": "code",
      "metadata": {
        "colab": {
          "base_uri": "https://localhost:8080/",
          "height": 0
        },
        "id": "S8ZctOmmbwCu",
        "outputId": "0a51c49b-9f4f-4074-dd14-ae3f1678d10f"
      },
      "execution_count": 91,
      "outputs": [
        {
          "output_type": "stream",
          "name": "stdout",
          "text": [
            "21.5625\n"
          ]
        }
      ]
    },
    {
      "source": [
        "\n",
        "\n",
        "def Neville_method_poly(x:list, y:list):\n",
        "    x0 = sympy.Symbol('x')\n",
        "    n = len(x)\n",
        "\n",
        "    Q = [[0 for i in range(n) ] for _ in range(n)]\n",
        "    for i in range(n):\n",
        "        Q[i][0] = y[i]\n",
        "\n",
        "    Pn = 0\n",
        "    for i in range(1, n):\n",
        "        for j in range(1, i + 1):\n",
        "            Q[i][j] = (Q[i][j - 1] *(x0 - x[i-j]) - Q[i - 1][j - 1]*(x0-x[i])) / (x[i] - x[i - j])\n",
        "\n",
        "    # for i in range(1, n):\n",
        "    #     for j in range(1, i + 1):\n",
        "    #         Pn += (Q[i][j - 1] *(x0 - x[i-j]) - Q[i - 1][j - 1]*(x0-x[i])) / (x[i] - x[i - j])\n",
        "    print(sympy.simplify(Q[n-1][n-1]))\n",
        "\n",
        "Neville_method_poly(x, y)"
      ],
      "cell_type": "code",
      "metadata": {
        "colab": {
          "base_uri": "https://localhost:8080/",
          "height": 0
        },
        "outputId": "c0048bf1-2286-4f3d-c137-687b5d16844e",
        "id": "BW2e4dcHgGzV"
      },
      "execution_count": 85,
      "outputs": [
        {
          "output_type": "stream",
          "name": "stdout",
          "text": [
            "-x**3/18 + 3*x**2/2 - 11*x + 36\n"
          ]
        }
      ]
    },
    {
      "cell_type": "code",
      "source": [
        "def divided_difference_poly(x:list, y:list):\n",
        "  x0 = sympy.Symbol('x')\n",
        "\n",
        "  n = len(x)\n",
        "\n",
        "  F = [[0 for i in range(n) ] for _ in range(n)]\n",
        "  for i in range(n):\n",
        "      F[i][0] = y[i]\n",
        "\n",
        "  Pn = 0\n",
        "  for i in range(1, n):\n",
        "      for j in range(1, i + 1):\n",
        "          F[i][j] = (F[i][j - 1] *(x0 - x[i-j]) - F[i - 1][j - 1]*(x0-x[i])) / (x[i] - x[i - j])\n",
        "  print(sympy.simplify(F[n-1][n-1]))\n",
        "\n",
        "\n",
        "divided_difference_poly(x, y)\n",
        "\n",
        "\n"
      ],
      "metadata": {
        "colab": {
          "base_uri": "https://localhost:8080/",
          "height": 0
        },
        "id": "7Qeqmy-0mIcs",
        "outputId": "d41a0778-bbb6-4ccb-c12a-f5709371a155"
      },
      "execution_count": 94,
      "outputs": [
        {
          "output_type": "stream",
          "name": "stdout",
          "text": [
            "-x**3/18 + 3*x**2/2 - 11*x + 36\n"
          ]
        }
      ]
    },
    {
      "cell_type": "code",
      "source": [
        "def divided_difference(x:list, y:list, point):\n",
        "  x0 = point\n",
        "\n",
        "  n = len(x)\n",
        "\n",
        "  F = [[0 for i in range(n) ] for _ in range(n)]\n",
        "  for i in range(n):\n",
        "      F[i][0] = y[i]\n",
        "\n",
        "  Pn = 0\n",
        "  for i in range(1, n):\n",
        "      for j in range(1, i + 1):\n",
        "          F[i][j] = (F[i][j - 1] *(x0 - x[i-j]) - F[i - 1][j - 1]*(x0-x[i])) / (x[i] - x[i - j])\n",
        "  print(F[n-1][n-1])\n",
        "\n",
        "\n",
        "divided_difference(x, y, point)"
      ],
      "metadata": {
        "colab": {
          "base_uri": "https://localhost:8080/",
          "height": 0
        },
        "outputId": "47c1b446-a3af-4796-edb7-e867680dc5d6",
        "id": "0YJ5whbbspaS"
      },
      "execution_count": 95,
      "outputs": [
        {
          "output_type": "stream",
          "name": "stdout",
          "text": [
            "21.5625\n"
          ]
        }
      ]
    },
    {
      "cell_type": "code",
      "source": [
        "A = [1000, 1500, 2000, 2500]\n",
        "P = [89.88, 84.48, 79.5, 74.98]\n",
        "altitude = 1750\n",
        "Lagrange_polynomial(A, P)\n",
        "Lagrange_polynomial_at_point(A, P, altitude)\n",
        "Neville_method_poly(A, P)\n",
        "Neville_method(A, P, altitude)\n",
        "\n",
        "divided_difference_poly(A, P)\n",
        "divided_difference(A, P, altitude)"
      ],
      "metadata": {
        "colab": {
          "base_uri": "https://localhost:8080/",
          "height": 0
        },
        "id": "hVsS51uqti5n",
        "outputId": "ec95147a-b5c5-4dc0-b845-b8fd702736c1"
      },
      "execution_count": 99,
      "outputs": [
        {
          "output_type": "stream",
          "name": "stdout",
          "text": [
            "Degree of Lagrange polynomial : 3\n",
            "5.33333333333762e-11*x**3 + 5.99999999999906e-7*x**2 - 0.0125533333333325*x + 101.78\n",
            "Degree of Lagrange polynomial : 3\n",
            "81.935\n",
            "5.33333333333612e-11*x**3 + 5.99999999999898e-7*x**2 - 0.0125533333333333*x + 101.78\n",
            "81.935\n",
            "5.33333333333612e-11*x**3 + 5.99999999999898e-7*x**2 - 0.0125533333333333*x + 101.78\n",
            "81.935\n"
          ]
        }
      ]
    },
    {
      "cell_type": "code",
      "source": [
        "#Third\n",
        "Q = [[float(0) for i in range(4) ] for _ in range(4)]\n",
        "Q[3][3] = 3.016\n",
        "Q[3][2] = 2.96\n",
        "Q[1][1] = 2.6\n",
        "Q[1][0] = 2\n",
        "y = 0.4\n",
        "x = [0, 0.25, 0.5, 0.75]\n",
        "\n",
        "Q[2][2] = (Q[3][3]*x[3] - y*Q[3][2])/(x[3]-y)\n",
        "Q[2][1] = (Q[2][2]*y+(y-x[2])*Q[1][1])/y\n",
        "Q[2][0] = (Q[2][1]*(x[2] - x[1]) + Q[1][0]*(y - x[2]))/(y - x[1])\n",
        "\n",
        "print(Q[2][0])"
      ],
      "metadata": {
        "colab": {
          "base_uri": "https://localhost:8080/",
          "height": 0
        },
        "id": "AadmQX-tvush",
        "outputId": "e5bf9413-1e14-48d5-b8d7-34263d6f553f"
      },
      "execution_count": 6,
      "outputs": [
        {
          "output_type": "stream",
          "name": "stdout",
          "text": [
            "2.716666666666667\n"
          ]
        }
      ]
    },
    {
      "cell_type": "code",
      "source": [
        "# Fifth\n",
        "x = [-3.0, -2.8, -2.6, -2.4, -2.2, -2.0]\n",
        "y = [9.367879, 8.233241, 7.180350, 6.209329, 5.320305, 4.513417]\n",
        "\n",
        "def Endpoint_rule_five(x0, x, y, h):\n",
        "    P = 0\n",
        "    for i in range(5):\n",
        "        j = x.index(round(x0 + i * h, 5))\n",
        "        if i == 0:\n",
        "            P += -25 * y[j]\n",
        "        elif i == 1:\n",
        "            P += 48 * y[j]\n",
        "        elif i == 2:\n",
        "            P += -36 * y[j]\n",
        "        elif i == 3:\n",
        "            P += 16 * y[j]\n",
        "        elif i == 4:\n",
        "            P += -3 * y[j]\n",
        "\n",
        "    result = 1 / (12 * h) * P\n",
        "    print(result)\n",
        "    return result\n",
        "\n",
        "def Midpoint_rule_five(x0, x, y, h):\n",
        "    P = 0\n",
        "    indices = [round(x0 - 2 * h, 5), round(x0 - h, 5), round(x0 + h, 5), round(x0 + 2 * h, 5)]\n",
        "    coefficients = [-1, 8, -8, 1]\n",
        "\n",
        "    for coef, x_val in zip(coefficients, indices):\n",
        "        j = x.index(x_val)\n",
        "        P += coef * y[j]\n",
        "\n",
        "    result = -1 / (12 * h) * P\n",
        "    print(result)\n",
        "    return result\n",
        "\n",
        "answers = []\n",
        "answers.append(Endpoint_rule_five(-3.0, x, y, 0.2))\n",
        "answers.append(Endpoint_rule_five(-2.8, x, y, 0.2))\n",
        "answers.append(Midpoint_rule_five(-2.6, x, y, 0.2))\n",
        "answers.append(Midpoint_rule_five(-2.4, x, y,0.2))\n",
        "answers.append(Endpoint_rule_five(-2.2, x, y, -0.2))\n",
        "answers.append(Endpoint_rule_five(-2.0, x, y, -0.2))\n",
        "\n",
        "for i, answer in enumerate(answers):\n",
        "    print(f\"f'({x[i]}) = {answer}\")\n"
      ],
      "metadata": {
        "colab": {
          "base_uri": "https://localhost:8080/",
          "height": 0
        },
        "id": "C8prkJNOYgQq",
        "outputId": "299cae46-3d6a-46ab-e429-b002cc967cb1"
      },
      "execution_count": 18,
      "outputs": [
        {
          "output_type": "stream",
          "name": "stdout",
          "text": [
            "-5.877357500000001\n",
            "-5.468933333333331\n",
            "-5.059884166666663\n",
            "-4.650223333333332\n",
            "-4.239910833333337\n",
            "-3.8288533333333388\n",
            "f'(-3.0) = -5.877357500000001\n",
            "f'(-2.8) = -5.468933333333331\n",
            "f'(-2.6) = -5.059884166666663\n",
            "f'(-2.4) = -4.650223333333332\n",
            "f'(-2.2) = -4.239910833333337\n",
            "f'(-2.0) = -3.8288533333333388\n"
          ]
        }
      ]
    },
    {
      "cell_type": "code",
      "source": [
        "#Sixth\n",
        "\n",
        "import math\n",
        "\n",
        "def f1(x):\n",
        "    return x + math.exp(x)\n",
        "\n",
        "def f2(x):\n",
        "    return x**3 * math.cos(x)\n",
        "\n",
        "def central_difference(f, x0, h):\n",
        "    return (f(x0 + h) - f(x0 - h)) / (2 * h)\n",
        "\n",
        "def richardson_extrapolation(f, x0, h):\n",
        "    D1 = central_difference(f, x0, h)\n",
        "    D2 = central_difference(f, x0, h / 2)\n",
        "    N3_h = (4 * D2 - D1) / 3\n",
        "    return N3_h\n",
        "\n",
        "x0_a = 0.0\n",
        "h_a = 0.4\n",
        "print(richardson_extrapolation(f1, x0_a, h_a))\n",
        "\n",
        "x0_b = 2.3\n",
        "h_b = 0.4\n",
        "print(richardson_extrapolation(f2, x0_b, h_b))\n"
      ],
      "metadata": {
        "colab": {
          "base_uri": "https://localhost:8080/",
          "height": 0
        },
        "id": "YtSRYqJ6ahIY",
        "outputId": "aa1e5531-a903-4072-bfd4-825f0e569977"
      },
      "execution_count": 21,
      "outputs": [
        {
          "output_type": "stream",
          "name": "stdout",
          "text": [
            "1.999946412104947\n",
            "-19.651043713986443\n"
          ]
        }
      ]
    },
    {
      "cell_type": "code",
      "source": [
        "def richardson_extrapolation_extended(f, x0, h):\n",
        "    D1 = central_difference(f, x0, h)\n",
        "    D2 = central_difference(f, x0, h / 2)\n",
        "    D3 = central_difference(f, x0, h / 4)\n",
        "\n",
        "    N3_h = (4 * D2 - D1) / 3\n",
        "    N3_h_half = (4 * D3 - D2) / 3\n",
        "\n",
        "\n",
        "    N4_h = (16 * N3_h_half - N3_h) / 15\n",
        "    return N4_h\n",
        "\n",
        "print(richardson_extrapolation_extended(f1, x0_a, h_a))\n",
        "\n",
        "print(richardson_extrapolation_extended(f2, x0_b, h_b))\n"
      ],
      "metadata": {
        "colab": {
          "base_uri": "https://localhost:8080/",
          "height": 0
        },
        "id": "ly1qAdjYbGOK",
        "outputId": "89b46f48-75d0-40da-953c-dcca3e671489"
      },
      "execution_count": 22,
      "outputs": [
        {
          "output_type": "stream",
          "name": "stdout",
          "text": [
            "2.000000012735508\n",
            "-19.64679921785558\n"
          ]
        }
      ]
    },
    {
      "source": [
        "import numpy as np\n",
        "\n",
        "data = \"\"\"0 200.0\n",
        "25 197.5\n",
        "50 195.0\n",
        "75 192.5\n",
        "100 190.0\n",
        "125 187.5\n",
        "150 185.0\n",
        "175 182.5\n",
        "200 180.0\n",
        "225 178.75\n",
        "250 177.5\n",
        "275 176.25\n",
        "300 175.0\n",
        "325 172.5\n",
        "350 170.0\n",
        "375 167.5\n",
        "400 160.0\n",
        "425 157.5\n",
        "450 155.0\n",
        "475 155.0\n",
        "500 155.0\"\"\"\n",
        "\n",
        "# Split the data into lines\n",
        "lines = data.strip().split('\\n')\n",
        "\n",
        "# Create empty lists for x and y values\n",
        "x_values = []\n",
        "y_values = []\n",
        "\n",
        "# Iterate through the lines and extract the values\n",
        "for line in lines:\n",
        "    x, y = line.split()  # Split each line into x and y\n",
        "    x_values.append(float(x))  # Convert x to float and add to list\n",
        "    y_values.append(float(y))  # Convert y to float and add to list\n",
        "\n",
        "# Create NumPy arrays from the lists\n",
        "x = np.array(x_values)\n",
        "R_x = np.array(y_values)\n",
        "\n",
        "# Print the arrays\n",
        "print(\"x:\", x)\n",
        "print(\"y:\", R_x)"
      ],
      "cell_type": "code",
      "metadata": {
        "colab": {
          "base_uri": "https://localhost:8080/",
          "height": 0
        },
        "id": "pa1J7NQRdBSz",
        "outputId": "7bc26959-4efd-4127-deea-35d3438d5a9b"
      },
      "execution_count": 26,
      "outputs": [
        {
          "output_type": "stream",
          "name": "stdout",
          "text": [
            "x: [  0.  25.  50.  75. 100. 125. 150. 175. 200. 225. 250. 275. 300. 325.\n",
            " 350. 375. 400. 425. 450. 475. 500.]\n",
            "y: [200.   197.5  195.   192.5  190.   187.5  185.   182.5  180.   178.75\n",
            " 177.5  176.25 175.   172.5  170.   167.5  160.   157.5  155.   155.\n",
            " 155.  ]\n"
          ]
        }
      ]
    },
    {
      "cell_type": "code",
      "source": [
        "# Eight\n",
        "\n",
        "import numpy as np\n",
        "n = len(x) - 1\n",
        "h = (x[-1] - x[0]) / n  # Step size\n",
        "\n",
        "# (a) Composite Trapezoidal Rule\n",
        "def composite_trapezoidal(x, y):\n",
        "    integral = 0.5 * (y[0] + y[-1]) + np.sum(y[1:-1])\n",
        "    return h * integral\n",
        "\n",
        "# (b) Composite Simpson's Rule\n",
        "def composite_simpsons(x, y):\n",
        "    if n % 2 != 0:\n",
        "        raise ValueError(\"Simpson's rule requires an even number of subintervals\")\n",
        "    integral = y[0] + y[-1] + 4 * np.sum(y[1:-1:2]) + 2 * np.sum(y[2:-2:2])\n",
        "    return (h / 3) * integral\n",
        "\n",
        "# (c) Composite Midpoint Rule\n",
        "def composite_midpoint(x, y):\n",
        "    mid_x = (x[:-1] + x[1:]) / 2\n",
        "    mid_y = np.interp(mid_x, x, y)\n",
        "    integral = np.sum(mid_y)\n",
        "    return h * integral\n",
        "\n",
        "# Calculate and print results\n",
        "trapezoidal_result = composite_trapezoidal(x, R_x)\n",
        "simpsons_result = composite_simpsons(x, R_x)\n",
        "midpoint_result = composite_midpoint(x, R_x)\n",
        "\n",
        "print(f\"Composite Trapezoidal Rule result: {trapezoidal_result:.4f}\")\n",
        "print(f\"Composite Simpson's Rule result: {simpsons_result:.4f}\")\n",
        "print(f\"Composite Midpoint Rule result: {midpoint_result:.4f}\")\n"
      ],
      "metadata": {
        "colab": {
          "base_uri": "https://localhost:8080/",
          "height": 0
        },
        "id": "quortAQ5bpe3",
        "outputId": "1cc58315-9e63-4059-f386-059eaf750f7b"
      },
      "execution_count": 27,
      "outputs": [
        {
          "output_type": "stream",
          "name": "stdout",
          "text": [
            "Composite Trapezoidal Rule result: 88312.5000\n",
            "Composite Simpson's Rule result: 88333.3333\n",
            "Composite Midpoint Rule result: 88312.5000\n"
          ]
        }
      ]
    },
    {
      "cell_type": "code",
      "source": [
        "def DE_Eulers_method(func, y0, t0, t_end, N):\n",
        "  h = (t_end - t0) / N\n",
        "  t = t0\n",
        "  y = [0 for i in range(N)]\n",
        "  y[0] = y0\n",
        "\n",
        "  for i in range(N - 1):\n",
        "    y[i+1] = y[i] + h * func(t0 + i*h, y[i])\n",
        "\n",
        "  return y\n",
        "\n",
        "def DE_Taylors_method_d2(func, funcDir, y0, t0, t_end, N):\n",
        "  h = (t_end - t0) / N\n",
        "  t = t0\n",
        "  y = [0 for i in range(N)]\n",
        "  y[0] = y0\n",
        "\n",
        "  for i in range(N - 1):\n",
        "    y[i+1] = y[i] + h * func(t0 + i*h, y[i]) + h**2/2 * funcDir(t0 + i*h, y[i])\n",
        "\n",
        "  return y\n",
        "\n",
        "\n",
        "def DE_Taylors_method_d4(func, funcDir, funcDir2, funcDir3, y0, t0, t_end, N):\n",
        "  h = (t_end - t0) / N\n",
        "  t = t0\n",
        "  y = [0 for i in range(N)]\n",
        "  y[0] = y0\n",
        "\n",
        "  for i in range(N - 1):\n",
        "    y[i+1] = y[i] + h * func(t0 + i*h, y[i]) + h**2/2 * funcDir(t0 + i*h, y[i]) + h**3/6 * funcDir2(t0 + i*h, y[i]) + h**4/24 * funcDir3(t0 + i*h, y[i])\n",
        "\n",
        "  return y\n",
        "\n",
        "def DERunge_Kutta_4(func, y0, t0, t_end, N):\n",
        "  h = (t_end - t0) / N\n",
        "  t = t0\n",
        "  y = [0 for i in range(N)]\n",
        "  y[0] = y0\n",
        "\n",
        "  for i in range(N - 1):\n",
        "    k1 = h * func(t0 + i*h, y[i])\n",
        "\n",
        "    k2 = h * func(t0 + i*h + h/2, y[i] + k1/2)\n",
        "\n",
        "    k3 = h * func(t0 + i*h + h/2, y[i] + k2/2)\n",
        "\n",
        "    k4 = h * func(t0 + i*h + h, y[i] + k3)\n",
        "\n",
        "    y[i+1] = y[i] + (k1 + 2*k2 + 2*k3 + k4)/6\n",
        "\n",
        "  return y\n",
        "\n",
        "def Rod_cooling(t, y):\n",
        "\n",
        "  return -0.07*(y - 20)\n",
        "\n",
        "def Rod_cooling_Dir(t, y):\n",
        "\n",
        "  return -0.07*(Rod_cooling(t, y))\n",
        "\n",
        "def Rod_cooling_Dir2(t, y):\n",
        "\n",
        "  return -0.07*(-0.07)*(Rod_cooling_Dir(t, y))\n",
        "\n",
        "def Rod_cooling_Dir3(t, y):\n",
        "\n",
        "  return -0.07*(-0.07)*(Rod_cooling_Dir2(t, y))\n",
        "\n",
        "\n",
        "print(\"Eulers method\")\n",
        "print(*DE_Eulers_method(Rod_cooling, 150, 0, 10, 10))\n",
        "print(\"Taylors method d2\")\n",
        "print(*DE_Taylors_method_d2(Rod_cooling, Rod_cooling_Dir, 150, 0, 10, 10))\n",
        "print(\"Taylors method d4\")\n",
        "print(*DE_Taylors_method_d4(Rod_cooling, Rod_cooling_Dir, Rod_cooling_Dir2, Rod_cooling_Dir3, 150, 0, 10, 10))\n",
        "print(\"Runge_Kutta_4 sooooo cool!\")\n",
        "print(*DERunge_Kutta_4(Rod_cooling, 150, 0, 10, 10))\n",
        "\n"
      ],
      "metadata": {
        "colab": {
          "base_uri": "https://localhost:8080/",
          "height": 0
        },
        "id": "73gDvmyRnhxN",
        "outputId": "d001b0f4-0e0f-4e62-dc03-c211d9fa8c5b"
      },
      "execution_count": 46,
      "outputs": [
        {
          "output_type": "stream",
          "name": "stdout",
          "text": [
            "Eulers method\n",
            "150 140.9 132.437 124.56641 117.2467613 110.439488009 104.10872384837 98.2211131789841 92.74563525645522 87.65344078850335\n",
            "Taylors method d2\n",
            "150 141.2185 133.030190325 125.39500096854626 118.27556865312096 111.63705399060264 105.44697099353743 99.67502810292397 94.29297995457146 89.27448915864016\n",
            "Taylors method d4\n",
            "150 141.2190208539321 133.0311616675848 125.39635956405486 118.27725775325915 111.63902274661216 105.4491739181195 99.6774245779369 94.29553378077335 89.27716814404293\n",
            "Runge_Kutta_4 sooooo cool!\n",
            "150 141.2111983875 133.01657395795294 125.37595666994616 118.25189222456498 111.60945846445397 105.41609418543362 99.64143952150754 94.25718712082718 89.23694338307918\n"
          ]
        }
      ]
    },
    {
      "cell_type": "code",
      "source": [
        "def funca(t, y):\n",
        "\n",
        "  return y/t - (y/t)**2\n",
        "\n",
        "def funca_Dir(t, y):\n",
        "\n",
        "  return funca(t, y)/t - 2*(funca(t, y)/t)**2\n",
        "\n",
        "def funca_Dir2(t, y):\n",
        "\n",
        "  return (funca_Dir(t, y))\n",
        "\n",
        "def funcb(t, y):\n",
        "\n",
        "  return (2-2*t*y)/(t**2 + 1)\n",
        "\n",
        "def funcC(t, y):\n",
        "  return y*y/(1+t)\n",
        "\n",
        "def funcD(t, y):\n",
        "  return (y*y+y)/t\n",
        "\n",
        "def funcE(t, y):\n",
        "  return -t*y + 4*t/y\n",
        "\n",
        "print(\"Eulers method\")\n",
        "print(*DE_Eulers_method(funca, 1, 1, 2, 10))\n",
        "print(*DE_Eulers_method(funcb, 1, 0, 1, 10))\n",
        "print(*DE_Eulers_method(funcC, -1/math.log(2), 1, 2, 10))\n",
        "print(*DE_Eulers_method(funcD, -2, 1, 3, 10))\n",
        "print(*DE_Eulers_method(funcE, 1, 0, 1, 10))\n",
        "\n",
        "print(\"Runge_Kutta_4\")\n",
        "\n",
        "print(*DERunge_Kutta_4(funca, 1, 1, 2, 10))\n",
        "print(*DERunge_Kutta_4(funcb, 1, 0, 1, 10))\n",
        "print(*DERunge_Kutta_4(funcC, -1/math.log(2), 1, 2, 10))\n",
        "print(*DERunge_Kutta_4(funcD, -2, 1, 3, 10))\n",
        "print(*DERunge_Kutta_4(funcE, 1, 0, 1, 10))"
      ],
      "metadata": {
        "colab": {
          "base_uri": "https://localhost:8080/",
          "height": 0
        },
        "id": "DtYKSq6AxOZ5",
        "outputId": "2d65573b-9b05-4771-8f65-11e4100e2d3f"
      },
      "execution_count": 47,
      "outputs": [
        {
          "output_type": "stream",
          "name": "stdout",
          "text": [
            "Eulers method\n",
            "1 1.0 1.0082644628099173 1.0216894717270375 1.038514734248178 1.0576681921408762 1.0784610936317547 1.100432164699466 1.1232620515812632 1.1467235965295264\n",
            "1 1.2 1.3742574257425741 1.5137090632140136 1.6138718670737926 1.6749841521031863 1.7009854199349315 1.697957294646555 1.6726458709884895 1.6314121274774174\n",
            "-1.4426950408889634 -1.338626591838683 -1.253297013154033 -1.1818991311912685 -1.1211649765690652 -1.0687895222071855 -1.023097080495991 -0.9828383252606286 -0.947061615127254 -0.9150285543112738\n",
            "-2 -1.6 -1.44 -1.3494857142857142 -1.2905324669387754 -1.2488722912405192 -1.2177913203817368 -1.193680013143977 -1.1744140164243582 -1.1586575344590018\n",
            "1 1.0 1.03 1.0870699029126214 1.1648462911273196 1.255609618037652 1.3521143139350462 1.4484872400849704 1.5403982534425766 1.6249048785133102\n",
            "Runge_Kutta_4\n",
            "1 1.004281503789555 1.0149520032742692 1.0298133425892024 1.0475335582666778 1.067261987800052 1.0884323193348482 1.1106546851565473 1.1336531911058663 1.1572280689869787\n",
            "1 1.1881187646752684 1.3461536085579304 1.467889340629606 1.5517231733226338 1.5999986641898754 1.61764544488264 1.6107364813790663 1.5853640302054655 1.5469595369547922\n",
            "-1.4426950408889634 -1.3478226748843143 -1.2682993551375241 -1.2006111168017901 -1.1422451810154675 -1.0913566054672148 -1.0465598772974287 -1.0067940141199903 -0.9712325957418673 -0.9392221797710821\n",
            "-2 -1.7142451804511538 -1.5555228848496192 -1.4545197492007562 -1.3845945062866782 -1.3333158560752736 -1.2941026605729438 -1.263144798904635 -1.2380836211681467 -1.2173808733204385\n",
            "1 1.0148158670028387 1.057182198104166 1.1216998897177695 1.2014881036244773 1.2898071487561804 1.3809325464253681 1.470415759334389 1.5550310971382222 1.6326118664063782\n"
          ]
        }
      ]
    }
  ]
}